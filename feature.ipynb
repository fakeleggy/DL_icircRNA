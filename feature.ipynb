{
  "nbformat": 4,
  "nbformat_minor": 0,
  "metadata": {
    "colab": {
      "name": "proj3feature.ipynb",
      "provenance": [],
      "collapsed_sections": []
    },
    "kernelspec": {
      "name": "python3",
      "display_name": "Python 3"
    }
  },
  "cells": [
    {
      "cell_type": "code",
      "metadata": {
        "id": "kWqTYBdPUXWE",
        "colab_type": "code",
        "colab": {}
      },
      "source": [
        "from google.colab import drive\n",
        "drive.mount('/content/drive')\n",
        "import os\n",
        "os.chdir('/content/drive/My Drive/514model/514proj3')"
      ],
      "execution_count": 0,
      "outputs": []
    },
    {
      "cell_type": "code",
      "metadata": {
        "id": "l6IqIX7FUhvC",
        "colab_type": "code",
        "colab": {}
      },
      "source": [
        "import numpy as np\n",
        "import pandas as pd\n",
        "import matplotlib.pyplot as plt"
      ],
      "execution_count": 0,
      "outputs": []
    },
    {
      "cell_type": "code",
      "metadata": {
        "id": "zQlPGoTYUnta",
        "colab_type": "code",
        "colab": {}
      },
      "source": [
        "def read_txt_file(file_path):\n",
        "    x_all=[]\n",
        "    with open(file_path,'r') as f:\n",
        "        for l in f.readlines():\n",
        "            line=list(map(int,l.split()))\n",
        "            x_all.append(line)\n",
        "    return x_all\n",
        "\n",
        "x_all = read_txt_file('prostate_cancer_train_data/total_x_8.txt')\n",
        "y_all = read_txt_file('prostate_cancer_train_data/total_y_8.txt')"
      ],
      "execution_count": 0,
      "outputs": []
    },
    {
      "cell_type": "code",
      "metadata": {
        "id": "zASQwDizUpcB",
        "colab_type": "code",
        "colab": {}
      },
      "source": [
        "xd = pd.DataFrame(np.asarray(x_all))\n",
        "yd = pd.DataFrame(np.asarray(y_all))\n",
        "data = pd.concat([xd,yd], axis=1)\n",
        "data.columns = range(0,1201)"
      ],
      "execution_count": 0,
      "outputs": []
    },
    {
      "cell_type": "code",
      "metadata": {
        "id": "gwsPnu8ZUrrD",
        "colab_type": "code",
        "colab": {}
      },
      "source": [
        "b0 = data[data.iloc[:,-1]==0]\n",
        "b5 = data[data.iloc[:,-1]==1]\n",
        "b3 = data[data.iloc[:,-1]==2]\n",
        "bi = data[data.iloc[:,-1]==3]"
      ],
      "execution_count": 0,
      "outputs": []
    },
    {
      "cell_type": "code",
      "metadata": {
        "id": "FG1U7XE6UwRE",
        "colab_type": "code",
        "colab": {}
      },
      "source": [
        "b = b3\n",
        "p = b.iloc[:,480:510]\n",
        "p.shape#.head(5)"
      ],
      "execution_count": 0,
      "outputs": []
    },
    {
      "cell_type": "code",
      "metadata": {
        "id": "NZG5DbFxHFnE",
        "colab_type": "code",
        "colab": {}
      },
      "source": [
        "p.groupby([p[480+14],p[480+15]]).count()"
      ],
      "execution_count": 0,
      "outputs": []
    },
    {
      "cell_type": "code",
      "metadata": {
        "id": "MBQp9BOSy1il",
        "colab_type": "code",
        "colab": {}
      },
      "source": [
        "f = p.loc[(p[685+14]==3)&(p[685+15]==3)&(p[685+16]==4)&(p[685+17]==1)&(p[685+18]==1)&(p[685+19]==3)&(p[685+20]==1)]\n",
        "f.shape"
      ],
      "execution_count": 0,
      "outputs": []
    },
    {
      "cell_type": "code",
      "metadata": {
        "id": "fEKVvhlJzllt",
        "colab_type": "code",
        "colab": {}
      },
      "source": [
        "ct = pd.DataFrame(np.zeros([16,p.shape[1]-1]))\n",
        "ct.head(5)"
      ],
      "execution_count": 0,
      "outputs": []
    },
    {
      "cell_type": "code",
      "metadata": {
        "id": "w2A2EOCEzlo4",
        "colab_type": "code",
        "colab": {}
      },
      "source": [
        "for j in range(0,p.shape[1]-1):\n",
        "  for i in range(0,p.shape[0]):\n",
        "    if(p.iloc[i,j]==1 and p.iloc[i,j+1]==1):\n",
        "      ct.iloc[0,j]= ct.iloc[0,j]+1\n",
        "    elif(p.iloc[i,j]==1 and p.iloc[i,j+1]==2):\n",
        "      ct.iloc[1,j]= ct.iloc[1,j]+1\n",
        "    elif(p.iloc[i,j]==1 and p.iloc[i,j+1]==3):\n",
        "      ct.iloc[2,j]= ct.iloc[2,j]+1\n",
        "    elif(p.iloc[i,j]==1 and p.iloc[i,j+1]==4):\n",
        "      ct.iloc[3,j]= ct.iloc[3,j]+1\n",
        "    elif(p.iloc[i,j]==2 and p.iloc[i,j+1]==1):\n",
        "      ct.iloc[4,j]= ct.iloc[4,j]+1\n",
        "    elif(p.iloc[i,j]==2 and p.iloc[i,j+1]==2):\n",
        "      ct.iloc[5,j]= ct.iloc[5,j]+1\n",
        "    elif(p.iloc[i,j]==2 and p.iloc[i,j+1]==3):\n",
        "      ct.iloc[6,j]= ct.iloc[6,j]+1\n",
        "    elif(p.iloc[i,j]==2 and p.iloc[i,j+1]==4):\n",
        "      ct.iloc[7,j]= ct.iloc[7,j]+1\n",
        "    elif(p.iloc[i,j]==3 and p.iloc[i,j+1]==1):\n",
        "      ct.iloc[8,j]= ct.iloc[8,j]+1\n",
        "    elif(p.iloc[i,j]==3 and p.iloc[i,j+1]==2):\n",
        "      ct.iloc[9,j]= ct.iloc[9,j]+1\n",
        "    elif(p.iloc[i,j]==3 and p.iloc[i,j+1]==3):\n",
        "      ct.iloc[10,j]= ct.iloc[10,j]+1\n",
        "    elif(p.iloc[i,j]==3 and p.iloc[i,j+1]==4):\n",
        "      ct.iloc[11,j]= ct.iloc[11,j]+1\n",
        "    elif(p.iloc[i,j]==4 and p.iloc[i,j+1]==1):\n",
        "      ct.iloc[12,j]= ct.iloc[12,j]+1\n",
        "    elif(p.iloc[i,j]==4 and p.iloc[i,j+1]==2):\n",
        "      ct.iloc[13,j]= ct.iloc[13,j]+1\n",
        "    elif(p.iloc[i,j]==4 and p.iloc[i,j+1]==3):\n",
        "      ct.iloc[14,j]= ct.iloc[14,j]+1\n",
        "    elif(p.iloc[i,j]==4 and p.iloc[i,j+1]==4):\n",
        "      ct.iloc[15,j]= ct.iloc[15,j]+1"
      ],
      "execution_count": 0,
      "outputs": []
    },
    {
      "cell_type": "code",
      "metadata": {
        "id": "aQAScXevzlwk",
        "colab_type": "code",
        "colab": {}
      },
      "source": [
        "f = p.loc[(p[685+14] == 3)&(p[685+15] == 3)&(p[685+16] == 4)&(p[685+17] == 1)&(p[685+18] == 1)&(p[685+19] == 3)]\n",
        "f.groupby(f[685+20]).count()"
      ],
      "execution_count": 0,
      "outputs": []
    },
    {
      "cell_type": "code",
      "metadata": {
        "id": "aVFh2oBZzluI",
        "colab_type": "code",
        "colab": {}
      },
      "source": [
        "print(ct.max().max())\n",
        "a = ct[ct==4]\n",
        "a"
      ],
      "execution_count": 0,
      "outputs": []
    },
    {
      "cell_type": "markdown",
      "metadata": {
        "id": "a5DL2OltVkLd",
        "colab_type": "text"
      },
      "source": [
        "---------------------------------------------------------------"
      ]
    },
    {
      "cell_type": "code",
      "metadata": {
        "id": "MPrpK1N4ZPZK",
        "colab_type": "code",
        "colab": {}
      },
      "source": [
        "def count2(a1,a2):\n",
        "  count = 0\n",
        "  for i in range(0,p.shape[0]):\n",
        "    for j in range(0,p.shape[1]-1):\n",
        "      if(p.iloc[i,j]==a1 and p.iloc[i,j+1]==a2):\n",
        "        count = count+1\n",
        "  return count"
      ],
      "execution_count": 0,
      "outputs": []
    },
    {
      "cell_type": "code",
      "metadata": {
        "id": "faYiwgALbBBy",
        "colab_type": "code",
        "colab": {}
      },
      "source": [
        "count = np.zeros(16);\n",
        "for i in range(1,5):\n",
        "  for j in range(1,5):\n",
        "    count[(i-1)*4+j-1] = count2(i,j)\n"
      ],
      "execution_count": 0,
      "outputs": []
    },
    {
      "cell_type": "code",
      "metadata": {
        "id": "XNBN9UYOdqFn",
        "colab_type": "code",
        "outputId": "8e8b5913-f817-4333-b50c-d23227af6923",
        "colab": {
          "base_uri": "https://localhost:8080/",
          "height": 281
        }
      },
      "source": [
        "plt.bar(range(1,17), count)\n",
        "plt.xticks([1,2,3,4,5,6,7,8,9,10,11,12,13,14,15,16],\n",
        "           ['AA','AC','AG','AT','CA','CC','CG','CT','GA','GC','GG','GT','TA','TC','TG','TT'])\n",
        "plt.title('Prostate Interior 470-510')\n",
        "plt.savefig('pro_bi_470_510_count.png',dpi=600)"
      ],
      "execution_count": 0,
      "outputs": [
        {
          "output_type": "display_data",
          "data": {
            "image/png": "[encoded data removed]",
            "text/plain": [
              "<Figure size 432x288 with 1 Axes>"
            ]
          },
          "metadata": {
            "tags": []
          }
        }
      ]
    },
    {
      "cell_type": "code",
      "metadata": {
        "id": "6e8hhcshyp1M",
        "colab_type": "code",
        "colab": {}
      },
      "source": [
        "# circle\n",
        "# linear\n",
        "\n",
        "#bi 480-510 (18-19)\n",
        "# AG 34 CAG 21 CAGA 14  /101 \n",
        "# AG 4  CAG 1  CAGA 1   /10\n",
        "\n",
        "#b0 480-510 (18-19)\n",
        "# AG 1169 CAG 666 CAGA 303  /3370\n",
        "# AG 23   CAG 11  CAGA 3    /54\n",
        "\n",
        "#b5 480-510 (18-19)\n",
        "# AG 125 CAG 80 CAGA 29  /274\n",
        "# AG 2   CAG 0           /8     AG CC GG 2\n",
        "\n",
        "#b3 480-510 (14-15)\n",
        "# TT 56 TTT 28 TTTC 14 TTTCA 10  /141\n",
        "# TT 2  TTT 2  TTTC 0            /3\n",
        "\n",
        "#bi 685-715 (15-16)\n",
        "# GT 34 GTA 23/GGT 23 GGTA 23 AGGTA 11 AGGTAA 7  /101 \n",
        "# GT 1  GTA 0                                    /10      GC 4\n",
        "\n",
        "#b0 685-715 (15-16)\n",
        "# GT 1169 GTA 830 GTAA 599 GTAAG 501 GTAAGT 310  /3370\n",
        "# GT 23   GTA 16  GTAA 14  GTAAG 9   GTAAGT 5    /54      \n",
        "\n",
        "#b5 685-715 (15-16)\n",
        "# GT 120 GTA 78 GTAA 47 GTAAG 38 GTAAGT 22 AGTAAGT 12 AAGTAAGTT 6  /274\n",
        "# GT 2   GTA 1  GTAA 1  GTAAG 1  GTAAGT 0                          /8      AG 3\n",
        "\n",
        "#b3 685-715 (15-16)\n",
        "# GT 56 GTA 45 GTAA 31 GTAAG 30 GGTAAG 15 GGTAAGA 8  /141\n",
        "# GT 2  GTA 1  GTAA 1  GTAAG 1  GGTAAG 1  GGTAAGA 0  /3"
      ],
      "execution_count": 0,
      "outputs": []
    }
  ]
}